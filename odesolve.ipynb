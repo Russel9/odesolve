{
 "cells": [
  {
   "cell_type": "markdown",
   "id": "ff80a427",
   "metadata": {},
   "source": [
    "# Odesolve Report\n",
    "---"
   ]
  },
  {
   "cell_type": "code",
   "execution_count": 1,
   "id": "8948896c",
   "metadata": {},
   "outputs": [],
   "source": [
    "import numpy as np\n",
    "import matplotlib.pyplot as plt"
   ]
  },
  {
   "cell_type": "markdown",
   "id": "486778d1",
   "metadata": {},
   "source": [
    "### Euler Method\n",
    "---"
   ]
  },
  {
   "cell_type": "code",
   "execution_count": 2,
   "id": "98899a6a",
   "metadata": {},
   "outputs": [],
   "source": [
    "def euler(f, x, t, h):\n",
    "    return x+f(x,t)*h"
   ]
  },
  {
   "cell_type": "markdown",
   "id": "29846ec5",
   "metadata": {},
   "source": [
    "### RK4\n",
    "---"
   ]
  },
  {
   "cell_type": "code",
   "execution_count": 3,
   "id": "fe145aa3",
   "metadata": {},
   "outputs": [],
   "source": [
    "def rk4(f, x, t, h):\n",
    "    k1 = f(x,t)\n",
    "    k2 = f(x+k1*h/2, t+h/2)\n",
    "    k3 = f(x+k2*h/2, t+h/2)\n",
    "    k4 = f(x+k3*h, t+h )\n",
    "    return x+(k1+2*k2+2*k3+k4)*h/6"
   ]
  },
  {
   "cell_type": "markdown",
   "id": "b5157602",
   "metadata": {},
   "source": [
    "### Solveto\n",
    "---"
   ]
  },
  {
   "cell_type": "code",
   "execution_count": 4,
   "id": "7e607916",
   "metadata": {},
   "outputs": [],
   "source": [
    "def solveto(f, x1, t1, t2, hmax, method=euler):\n",
    "    D=t2-t1                                    # distance between t1 and t2\n",
    "    A =D//hmax; B=round(D%hmax,10)             # A:Steps   B:Final step size\n",
    "    i=0\n",
    "    C=method\n",
    "    if C==euler and D!=0:\n",
    "        while i < A:\n",
    "            i=i+1\n",
    "            t2=t1+hmax\n",
    "            x2=euler(f,x1,t1,hmax)\n",
    "            t1=t2\n",
    "            x1=x2 \n",
    "            if B > 0 and i==A:\n",
    "                x2=euler(f,x1,t1,B)\n",
    "        return x2\n",
    "    if C==rk4 and D!=0:\n",
    "        while i < A:\n",
    "            i=i+1\n",
    "            t2=t1+hmax\n",
    "            x2 =rk4(f,x1,t1,hmax)\n",
    "            t1=t2\n",
    "            x1=x2\n",
    "            if B > 0 and i==A:\n",
    "                x2=rk4(f,x1,t1,B)\n",
    "        return x2\n",
    "    if D==0:                              # when t2=t1, x2=1.\n",
    "        x2=1.\n",
    "        return x2"
   ]
  },
  {
   "cell_type": "markdown",
   "id": "26f1b06c",
   "metadata": {},
   "source": [
    "In this function, I use the **while loop** and call **function euler()** and **function rk4()** to realize the iteration of x2. \n",
    "Moreover, I create a **variable 'C'** to distinguish when to use euler or rk4 method."
   ]
  },
  {
   "cell_type": "markdown",
   "id": "ad9546f3",
   "metadata": {},
   "source": [
    "### Odesolve\n",
    "---"
   ]
  },
  {
   "cell_type": "code",
   "execution_count": 5,
   "id": "96719b32",
   "metadata": {},
   "outputs": [],
   "source": [
    "def odesolve(f, X0, t, hmax, method=euler):\n",
    "    C=method\n",
    "    i=0\n",
    "    t1=np.array(t); A=(t[-1]-t[0])/t[1]+1   # A=times to plot the solution\n",
    "    x1=X0[0]\n",
    "    list=[]\n",
    "    if C==euler:\n",
    "        while i < A :\n",
    "            x2=solveto(f,x1,t1[i],t[-1],hmax,euler)\n",
    "            i=i+1\n",
    "            list.insert(0,x2)         # record every result of x2 in a list\n",
    "        a=np.array(list)\n",
    "        x_2=np.mat(a)                 # turn x_2 into the matrix form\n",
    "        return x_2\n",
    "            \n",
    "        \n",
    "    if C==rk4:\n",
    "        while i < A:\n",
    "            x2=solveto(f,x1,t1[i],t[-1],hmax,rk4)\n",
    "            i=i+1\n",
    "            list.insert(0,x2)\n",
    "        a=np.array(list)\n",
    "        x_2=np.mat(a)\n",
    "        return x_2"
   ]
  },
  {
   "cell_type": "markdown",
   "id": "3b1b1ad3",
   "metadata": {},
   "source": [
    "In this function, **variable 'list'** is created to record and save every result of x2 in a list to be able to get many different values of x_2 for different t."
   ]
  },
  {
   "cell_type": "markdown",
   "id": "1280c304",
   "metadata": {},
   "source": [
    "### Odesolve Plot\n",
    "---"
   ]
  },
  {
   "cell_type": "code",
   "execution_count": 6,
   "id": "639f6df9",
   "metadata": {},
   "outputs": [
    {
     "data": {
      "image/png": "[encoded data removed]",
      "text/plain": [
       "<Figure size 432x288 with 1 Axes>"
      ]
     },
     "metadata": {
      "needs_background": "light"
     },
     "output_type": "display_data"
    }
   ],
   "source": [
    "def f(x,t):\n",
    "    return x\n",
    "x0 = [1]\n",
    "y0 = [0.85]\n",
    "tvals = np.linspace(0,1,5)\n",
    "Xt=odesolve(f,x0,tvals,0.001,euler)\n",
    "Yt=odesolve(f,y0,tvals,0.001,euler)\n",
    "plt.plot(tvals,Xt.T,marker='*')\n",
    "plt.plot(tvals,Yt.T,marker='o')\n",
    "plt.xlabel('t')\n",
    "plt.ylabel('X2')\n",
    "plt.show()"
   ]
  },
  {
   "cell_type": "markdown",
   "id": "78695181",
   "metadata": {},
   "source": [
    "This function shows the plot of x2 for different t by calling the **odesolve function**."
   ]
  }
 ],
 "metadata": {
  "kernelspec": {
   "display_name": "Python 3",
   "language": "python",
   "name": "python3"
  },
  "language_info": {
   "codemirror_mode": {
    "name": "ipython",
    "version": 3
   },
   "file_extension": ".py",
   "mimetype": "text/x-python",
   "name": "python",
   "nbconvert_exporter": "python",
   "pygments_lexer": "ipython3",
   "version": "3.8.8"
  }
 },
 "nbformat": 4,
 "nbformat_minor": 5
}
